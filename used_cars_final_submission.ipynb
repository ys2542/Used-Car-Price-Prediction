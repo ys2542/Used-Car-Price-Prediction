{
 "cells": [
  {
   "cell_type": "code",
   "execution_count": 27,
   "metadata": {
    "collapsed": true
   },
   "outputs": [],
   "source": [
    "import pandas as pd\n",
    "import numpy as np"
   ]
  },
  {
   "cell_type": "code",
   "execution_count": 28,
   "metadata": {
    "collapsed": true
   },
   "outputs": [],
   "source": [
    "from sklearn import linear_model \n",
    "from sklearn.ensemble import RandomForestRegressor\n",
    "from sklearn.tree import DecisionTreeRegressor\n",
    "from sklearn.neighbors import KNeighborsRegressor\n",
    "from sklearn.model_selection import GridSearchCV\n",
    "from sklearn.model_selection import train_test_split\n",
    "from sklearn.metrics import mean_absolute_error\n",
    "import matplotlib.pyplot as plt\n",
    "from sklearn.externals import joblib\n",
    "from numpy.random import RandomState"
   ]
  },
  {
   "cell_type": "code",
   "execution_count": 29,
   "metadata": {},
   "outputs": [
    {
     "data": {
      "text/plain": [
       "'0.19.1'"
      ]
     },
     "execution_count": 29,
     "metadata": {},
     "output_type": "execute_result"
    }
   ],
   "source": [
    "sklearn.__version__"
   ]
  },
  {
   "cell_type": "code",
   "execution_count": 30,
   "metadata": {
    "collapsed": true
   },
   "outputs": [],
   "source": [
    "def graph_feature_importances(model, feature_names, autoscale=True, headroom=0.05, width=10, summarized_columns=None ):\n",
    "    if autoscale:\n",
    "        x_scale=model.feature_importances_.max()+headroom\n",
    "    else:\n",
    "        x_scale=1\n",
    "    feature_dict=dict(zip(feature_names,model.feature_importances_))\n",
    "    \n",
    "    for col_name in summarized_columns:\n",
    "        sum_value = sum(x for i,x in feature_dict.items() if col_name in i)\n",
    "        keys_to_remove=[i for i in feature_dict.keys() if col_name in i]\n",
    "        for i in keys_to_remove:\n",
    "            feature_dict.pop(i)\n",
    "        feature_dict[col_name]=sum_value\n",
    "    \n",
    "    results=pd.Series(list(feature_dict.values()),index=feature_dict.keys())\n",
    "    results=results.sort_values(axis=0)\n",
    "    results.plot(kind='barh', figsize=(width,len(results)/2), xlim=(0,x_scale))"
   ]
  },
  {
   "cell_type": "code",
   "execution_count": 31,
   "metadata": {
    "collapsed": true
   },
   "outputs": [],
   "source": [
    "def DropColumns(x,ls=None):\n",
    "    '''Drop the columns that are determined to have no useful information for the task, based on domain knowledge'''\n",
    "    \n",
    "    if ls is None:\n",
    "        del_var=['dateCrawled', 'name', 'offerType', 'abtest', 'monthOfRegistration', \n",
    "         'brand', 'dateCreated', 'nrOfPictures', 'postalCode', 'lastSeen']\n",
    "        x=x.drop(labels=del_var,axis=1)\n",
    "    else:\n",
    "        x=x.drop(labels=ls,axis=1)\n",
    "    \n",
    "    return x"
   ]
  },
  {
   "cell_type": "code",
   "execution_count": 32,
   "metadata": {
    "collapsed": true
   },
   "outputs": [],
   "source": [
    "def RemoveOutlier(x,price_start,price_end,year_start,year_end,powerPS_start,powerPS_end):\n",
    "    '''remove outlier by EDA and Domain Knowledge'''\n",
    "    \n",
    "    x=x[(x['price']>price_start) & (x['price']<price_end)&\n",
    "                (x['yearOfRegistration']>year_start) & (x['yearOfRegistration']<year_end)&\n",
    "                (x['powerPS']>powerPS_start)&(x['powerPS']<powerPS_end)]\n",
    "    return x"
   ]
  },
  {
   "cell_type": "code",
   "execution_count": 33,
   "metadata": {
    "collapsed": true
   },
   "outputs": [],
   "source": [
    "def FillMissing(x):\n",
    "    '''fill missing value for both categorical and numeric variables'''\n",
    "    categorical= x.columns[x.dtypes==object]\n",
    "    numeric=x.columns[x.dtypes=='int64']\n",
    "    \n",
    "    #replace missing value in cate\n",
    "    for i in categorical:\n",
    "        x[i].replace(np.nan,'notDeclared',inplace=True)\n",
    "        \n",
    "    #replace missing value in numeric\n",
    "    for i in numeric:\n",
    "        x[i].replace(np.nan,x[i].mean(),inplace=True)\n",
    "    \n",
    "    return x\n",
    "        "
   ]
  },
  {
   "cell_type": "code",
   "execution_count": 34,
   "metadata": {
    "collapsed": true
   },
   "outputs": [],
   "source": [
    "def CombiningCarModels(x,model_threshold):\n",
    "    '''input the desired threshold and combine the car models based on the threshold'''\n",
    "    other_list=[]\n",
    "    s=x['model'].value_counts()\n",
    "    for i in list(s.index):\n",
    "        if s[i]<model_threshold:\n",
    "            other_list.append(i)\n",
    "    x['model'].replace(other_list,'Other',inplace=True)\n",
    "\n",
    "    return x\n",
    "    \n",
    "    \n",
    "    "
   ]
  },
  {
   "cell_type": "code",
   "execution_count": 35,
   "metadata": {
    "collapsed": true
   },
   "outputs": [],
   "source": [
    "def TransformTest(test,train,price_start,price_end,year_start,year_end,powerPS_start,powerPS_end,model_threshold):\n",
    "    #n=len(test['price'])\n",
    "    test=DropColumns(test)\n",
    "    test=RemoveOutlier(test,price_start,price_end,year_start,year_end,powerPS_start,powerPS_end)\n",
    "    test=FillMissing(test)\n",
    "    test=CombiningCarModels(test,model_threshold)\n",
    "    test=pd.get_dummies(test,columns=list(test.select_dtypes(include=['object']).columns))\n",
    "    for i in train.columns:\n",
    "        if i not in test.columns:\n",
    "            test[i]=pd.Series([0 for x in range(len(test['price']))],index=test.index)\n",
    "    return test"
   ]
  },
  {
   "cell_type": "code",
   "execution_count": null,
   "metadata": {
    "collapsed": true
   },
   "outputs": [],
   "source": []
  },
  {
   "cell_type": "code",
   "execution_count": 36,
   "metadata": {
    "collapsed": true
   },
   "outputs": [],
   "source": [
    "################################\n",
    "#data preparing"
   ]
  },
  {
   "cell_type": "code",
   "execution_count": 37,
   "metadata": {
    "collapsed": true
   },
   "outputs": [],
   "source": [
    "used_cars=pd.read_csv('autos.csv',encoding='latin-1')"
   ]
  },
  {
   "cell_type": "code",
   "execution_count": 38,
   "metadata": {
    "collapsed": true
   },
   "outputs": [],
   "source": [
    "#split the dataset into training and testing 70% vs 30%\n",
    "RS1=RandomState(1)\n",
    "msk1=RS1.rand(len(used_cars['name']))<=0.7\n",
    "train=used_cars.iloc[msk1]\n",
    "test=used_cars.iloc[~msk1]"
   ]
  },
  {
   "cell_type": "code",
   "execution_count": null,
   "metadata": {
    "collapsed": true
   },
   "outputs": [],
   "source": []
  },
  {
   "cell_type": "code",
   "execution_count": 39,
   "metadata": {
    "collapsed": true
   },
   "outputs": [],
   "source": [
    "#####################################################\n",
    "#####################################################\n",
    "#build a baseline model with the training and testing"
   ]
  },
  {
   "cell_type": "code",
   "execution_count": 40,
   "metadata": {
    "collapsed": true
   },
   "outputs": [],
   "source": [
    "base_train=train.select_dtypes(include=['int64'])\n",
    "base_test=test.select_dtypes(include=['int64'])"
   ]
  },
  {
   "cell_type": "code",
   "execution_count": 41,
   "metadata": {
    "collapsed": true
   },
   "outputs": [],
   "source": [
    "base_train_x=base_train.drop('price',axis=1)\n",
    "base_train_y=base_train['price']\n",
    "base_test_x=base_test.drop('price',axis=1)\n",
    "base_test_y=base_test['price']"
   ]
  },
  {
   "cell_type": "code",
   "execution_count": 42,
   "metadata": {
    "collapsed": true
   },
   "outputs": [],
   "source": [
    "lr_base=linear_model.LinearRegression()\n",
    "lr_base.fit(base_train_x,base_train_y)\n",
    "base_pred_y=lr_base.predict(base_test_x)\n",
    "base_mae=mean_absolute_error(base_test_y,base_pred_y)"
   ]
  },
  {
   "cell_type": "code",
   "execution_count": 43,
   "metadata": {},
   "outputs": [
    {
     "data": {
      "text/plain": [
       "29426.573146846615"
      ]
     },
     "execution_count": 43,
     "metadata": {},
     "output_type": "execute_result"
    }
   ],
   "source": [
    "base_mae"
   ]
  },
  {
   "cell_type": "code",
   "execution_count": 44,
   "metadata": {},
   "outputs": [
    {
     "data": {
      "image/png": "[encoded data removed]",
      "text/plain": [
       "<matplotlib.figure.Figure at 0x1a262902e8>"
      ]
     },
     "metadata": {},
     "output_type": "display_data"
    }
   ],
   "source": [
    "plt.figure()\n",
    "plt.scatter(base_test_y,base_pred_y,s=20)\n",
    "plt.title('Predicted vs Actual for baseline model')\n",
    "plt.xlabel('Actual Price')\n",
    "plt.ylabel('Predicted Price')\n",
    "plt.savefig('Predicted vs Actual Price')\n",
    "plt.show()"
   ]
  },
  {
   "cell_type": "code",
   "execution_count": null,
   "metadata": {
    "collapsed": true
   },
   "outputs": [],
   "source": []
  },
  {
   "cell_type": "code",
   "execution_count": 45,
   "metadata": {
    "collapsed": true
   },
   "outputs": [],
   "source": [
    "##############################\n",
    "#############################\n",
    "#feature engineering on train"
   ]
  },
  {
   "cell_type": "code",
   "execution_count": 46,
   "metadata": {
    "collapsed": true
   },
   "outputs": [],
   "source": [
    "train=DropColumns(train)\n",
    "train=RemoveOutlier(train,100,150000,1950,2017,10,500)\n",
    "train=FillMissing(train)\n",
    "train=CombiningCarModels(train,100)"
   ]
  },
  {
   "cell_type": "code",
   "execution_count": 47,
   "metadata": {
    "collapsed": true
   },
   "outputs": [],
   "source": [
    "#a list of categorical variable after feature engineering\n",
    "#reserve a list of all categorical variable of train after engineering and before get_dummies\n",
    "cat= train.columns[train.dtypes==object]"
   ]
  },
  {
   "cell_type": "code",
   "execution_count": 48,
   "metadata": {
    "collapsed": true
   },
   "outputs": [],
   "source": [
    "####check if the transform is successful:"
   ]
  },
  {
   "cell_type": "code",
   "execution_count": 49,
   "metadata": {},
   "outputs": [
    {
     "name": "stdout",
     "output_type": "stream",
     "text": [
      "<class 'pandas.core.frame.DataFrame'>\n",
      "Int64Index: 217087 entries, 2 to 371527\n",
      "Data columns (total 10 columns):\n",
      "seller                217087 non-null object\n",
      "price                 217087 non-null int64\n",
      "vehicleType           217087 non-null object\n",
      "yearOfRegistration    217087 non-null int64\n",
      "gearbox               217087 non-null object\n",
      "powerPS               217087 non-null int64\n",
      "model                 217087 non-null object\n",
      "kilometer             217087 non-null int64\n",
      "fuelType              217087 non-null object\n",
      "notRepairedDamage     217087 non-null object\n",
      "dtypes: int64(4), object(6)\n",
      "memory usage: 18.2+ MB\n"
     ]
    }
   ],
   "source": [
    "train.info()"
   ]
  },
  {
   "cell_type": "code",
   "execution_count": 50,
   "metadata": {},
   "outputs": [
    {
     "name": "stdout",
     "output_type": "stream",
     "text": [
      "seller  has 2 unique categories\n",
      "vehicleType  has 9 unique categories\n",
      "gearbox  has 3 unique categories\n",
      "model  has 193 unique categories\n",
      "fuelType  has 8 unique categories\n",
      "notRepairedDamage  has 3 unique categories\n"
     ]
    }
   ],
   "source": [
    "##check categorical variable:\n",
    "for i in cat:\n",
    "    print(i,' has {} unique categories'.format(len(set(train[i]))))"
   ]
  },
  {
   "cell_type": "code",
   "execution_count": 51,
   "metadata": {},
   "outputs": [
    {
     "data": {
      "text/plain": [
       "seller                0\n",
       "price                 0\n",
       "vehicleType           0\n",
       "yearOfRegistration    0\n",
       "gearbox               0\n",
       "powerPS               0\n",
       "model                 0\n",
       "kilometer             0\n",
       "fuelType              0\n",
       "notRepairedDamage     0\n",
       "dtype: int64"
      ]
     },
     "execution_count": 51,
     "metadata": {},
     "output_type": "execute_result"
    }
   ],
   "source": [
    "train.isnull().sum()"
   ]
  },
  {
   "cell_type": "code",
   "execution_count": 52,
   "metadata": {
    "collapsed": true
   },
   "outputs": [],
   "source": [
    "#one-hot encoding\n",
    "train=pd.get_dummies(train,columns=cat)"
   ]
  },
  {
   "cell_type": "code",
   "execution_count": null,
   "metadata": {
    "collapsed": true
   },
   "outputs": [],
   "source": []
  },
  {
   "cell_type": "code",
   "execution_count": 53,
   "metadata": {
    "collapsed": true
   },
   "outputs": [],
   "source": [
    "###################################\n",
    "###################################\n",
    "#gridsearch on different algorithms"
   ]
  },
  {
   "cell_type": "code",
   "execution_count": 54,
   "metadata": {
    "collapsed": true
   },
   "outputs": [],
   "source": [
    "#seperate features and labels in training set\n",
    "x_train=train.drop('price',axis=1)\n",
    "y_train=train['price']\n"
   ]
  },
  {
   "cell_type": "code",
   "execution_count": 55,
   "metadata": {
    "collapsed": true
   },
   "outputs": [],
   "source": [
    "#only use 70% of the training data to do the gridsearch\n",
    "\n",
    "msk2=np.random.rand(len(x_train))<=0.7\n",
    "gridsearch_features=x_train[msk2]\n",
    "gridsearch_labels=y_train[msk2]\n",
    "\n",
    "validate_features=x_train[~msk2]\n",
    "validate_labels=y_train[~msk2]"
   ]
  },
  {
   "cell_type": "code",
   "execution_count": null,
   "metadata": {
    "collapsed": true
   },
   "outputs": [],
   "source": []
  },
  {
   "cell_type": "code",
   "execution_count": 82,
   "metadata": {
    "collapsed": true
   },
   "outputs": [],
   "source": [
    "#Linear Regression: Ridge & Lasso"
   ]
  },
  {
   "cell_type": "code",
   "execution_count": 31,
   "metadata": {},
   "outputs": [
    {
     "name": "stdout",
     "output_type": "stream",
     "text": [
      "CPU times: user 13min 28s, sys: 16.5 s, total: 13min 45s\n",
      "Wall time: 13min 40s\n"
     ]
    }
   ],
   "source": [
    "#Ridge\n",
    "%%time\n",
    "lr_ridge=linear_model.Ridge(solver='sag') #alpho=0 correspond to ordinary least square (ordinary lr)\n",
    "lr_ridge_parameters={'alpha':[0, 0.5, 0.55, 0.6, 0.65, 0.7, 0.75, 0.8, 0.85, 0.9]}\n",
    "regressor_lr_ridge=GridSearchCV(lr_ridge,lr_ridge_parameters)\n",
    "regressor_lr_ridge.fit(gridsearch_features,gridsearch_labels)\n",
    "\n"
   ]
  },
  {
   "cell_type": "code",
   "execution_count": 36,
   "metadata": {},
   "outputs": [
    {
     "data": {
      "text/plain": [
       "['regressor_lr_ridge2']"
      ]
     },
     "execution_count": 36,
     "metadata": {},
     "output_type": "execute_result"
    }
   ],
   "source": [
    "#joblib.dump(regressor_lr_ridge,'regressor_lr_ridge2')"
   ]
  },
  {
   "cell_type": "code",
   "execution_count": 25,
   "metadata": {},
   "outputs": [
    {
     "name": "stderr",
     "output_type": "stream",
     "text": [
      "/Users/zhe/anaconda3/lib/python3.6/site-packages/sklearn/base.py:311: UserWarning: Trying to unpickle estimator Ridge from version 0.19.0 when using version 0.19.1. This might lead to breaking code or invalid results. Use at your own risk.\n",
      "  UserWarning)\n",
      "/Users/zhe/anaconda3/lib/python3.6/site-packages/sklearn/base.py:311: UserWarning: Trying to unpickle estimator GridSearchCV from version 0.19.0 when using version 0.19.1. This might lead to breaking code or invalid results. Use at your own risk.\n",
      "  UserWarning)\n"
     ]
    }
   ],
   "source": [
    "regressor_lr_ridge=joblib.load('regressor_lr_ridge2')"
   ]
  },
  {
   "cell_type": "code",
   "execution_count": 119,
   "metadata": {},
   "outputs": [
    {
     "data": {
      "image/png": "[encoded data removed]",
      "text/plain": [
       "<matplotlib.figure.Figure at 0x11460e780>"
      ]
     },
     "metadata": {},
     "output_type": "display_data"
    }
   ],
   "source": [
    "#plot learning curve\n",
    "plt.figure()\n",
    "test_scores=regressor_lr_ridge.cv_results_['mean_test_score']\n",
    "plt.plot([0, 0.5, 0.55, 0.6, 0.65, 0.7, 0.75, 0.8, 0.85, 0.9],test_scores)\n",
    "plt.savefig('ridge_LearninCurve')\n",
    "plt.show()"
   ]
  },
  {
   "cell_type": "code",
   "execution_count": 26,
   "metadata": {},
   "outputs": [
    {
     "data": {
      "text/plain": [
       "{'alpha': 0.8}"
      ]
     },
     "execution_count": 26,
     "metadata": {},
     "output_type": "execute_result"
    }
   ],
   "source": [
    "regressor_lr_ridge.best_params_"
   ]
  },
  {
   "cell_type": "code",
   "execution_count": null,
   "metadata": {
    "collapsed": true
   },
   "outputs": [],
   "source": []
  },
  {
   "cell_type": "code",
   "execution_count": 84,
   "metadata": {},
   "outputs": [
    {
     "name": "stdout",
     "output_type": "stream",
     "text": [
      "CPU times: user 54min 50s, sys: 25 s, total: 55min 15s\n",
      "Wall time: 1h 47min 8s\n"
     ]
    }
   ],
   "source": [
    "#lasso\n",
    "%%time \n",
    "#does not advise to use alpha=0\n",
    "lr_lasso=linear_model.Lasso(max_iter=20000)\n",
    "lr_lasso_parameters={'normalize':[True,False],\n",
    "              'alpha':[0.02, 0.03, 0.04, 0.05,0.1, 0.5, 1, 1.5]}\n",
    "regressor_lr_lasso=GridSearchCV(lr_lasso,lr_lasso_parameters)\n",
    "regressor_lr_lasso.fit(gridsearch_features,gridsearch_labels)"
   ]
  },
  {
   "cell_type": "code",
   "execution_count": 22,
   "metadata": {},
   "outputs": [
    {
     "name": "stderr",
     "output_type": "stream",
     "text": [
      "/Users/zhe/anaconda3/lib/python3.6/site-packages/sklearn/base.py:311: UserWarning: Trying to unpickle estimator Lasso from version 0.19.0 when using version 0.19.1. This might lead to breaking code or invalid results. Use at your own risk.\n",
      "  UserWarning)\n",
      "/Users/zhe/anaconda3/lib/python3.6/site-packages/sklearn/base.py:311: UserWarning: Trying to unpickle estimator GridSearchCV from version 0.19.0 when using version 0.19.1. This might lead to breaking code or invalid results. Use at your own risk.\n",
      "  UserWarning)\n"
     ]
    }
   ],
   "source": [
    "regressor_lr_lasso=joblib.load('regressor_lr_lasso2')"
   ]
  },
  {
   "cell_type": "code",
   "execution_count": 23,
   "metadata": {
    "collapsed": true
   },
   "outputs": [],
   "source": [
    "#joblib.dump(regressor_lr_lasso,'regressor_lr_lasso2')"
   ]
  },
  {
   "cell_type": "code",
   "execution_count": 80,
   "metadata": {},
   "outputs": [
    {
     "data": {
      "text/plain": [
       "{'alpha': 0.04, 'normalize': False}"
      ]
     },
     "execution_count": 80,
     "metadata": {},
     "output_type": "execute_result"
    }
   ],
   "source": [
    "regressor_lr_lasso.best_params_"
   ]
  },
  {
   "cell_type": "code",
   "execution_count": 110,
   "metadata": {
    "collapsed": true
   },
   "outputs": [],
   "source": [
    "lasso_test_scores=[regressor_lr_lasso.cv_results_['mean_test_score'][i] for i in range(16)  if i%2 !=0 ]"
   ]
  },
  {
   "cell_type": "code",
   "execution_count": 113,
   "metadata": {},
   "outputs": [
    {
     "data": {
      "image/png": "[encoded data removed]",
      "text/plain": [
       "<matplotlib.figure.Figure at 0x114676e80>"
      ]
     },
     "metadata": {},
     "output_type": "display_data"
    }
   ],
   "source": [
    "#plot 'learning curve'\n",
    "plt.figure()\n",
    "test_scores=regressor_lr_lasso.cv_results_['mean_test_score']\n",
    "plt.plot([0.02, 0.03, 0.04, 0.05,0.1, 0.5, 1, 1.5],lasso_test_scores)\n",
    "plt.savefig('lasso_LearninCurve')\n",
    "plt.show()"
   ]
  },
  {
   "cell_type": "code",
   "execution_count": 114,
   "metadata": {},
   "outputs": [
    {
     "data": {
      "image/png": "[encoded data removed]",
      "text/plain": [
       "<matplotlib.figure.Figure at 0x1a1d03d9e8>"
      ]
     },
     "metadata": {},
     "output_type": "display_data"
    }
   ],
   "source": [
    "plt.figure()\n",
    "test_scores=regressor_lr_lasso.cv_results_['mean_test_score']\n",
    "plt.plot([0.02, 0.03, 0.04, 0.05],lasso_test_scores[:4])\n",
    "plt.savefig('lasso_LearninCurve_zoomin')\n",
    "plt.show()"
   ]
  },
  {
   "cell_type": "code",
   "execution_count": 28,
   "metadata": {
    "collapsed": true
   },
   "outputs": [],
   "source": [
    "#RandomForestRegressor"
   ]
  },
  {
   "cell_type": "code",
   "execution_count": null,
   "metadata": {
    "collapsed": true
   },
   "outputs": [],
   "source": [
    "%%time\n",
    "rfr=RandomForestRegressor()\n",
    "parameters={'n_estimators':[10, 50, 100, 110, 120, 130, 140, 150, 200, 300, 400, 500] }\n",
    "regressor_rfr=GridSearchCV(rfr,parameters)\n",
    "regressor_rfr.fit(gridsearch_features,gridsearch_labels)"
   ]
  },
  {
   "cell_type": "code",
   "execution_count": null,
   "metadata": {
    "collapsed": true
   },
   "outputs": [],
   "source": [
    "#joblib.dump(regressor_rfr,'regressor_rfr2')"
   ]
  },
  {
   "cell_type": "code",
   "execution_count": 12,
   "metadata": {
    "collapsed": true
   },
   "outputs": [],
   "source": [
    "regressor_rfr=joblib.load('regressor_rfr2.')"
   ]
  },
  {
   "cell_type": "code",
   "execution_count": 13,
   "metadata": {},
   "outputs": [
    {
     "data": {
      "image/png": "[encoded data removed]",
      "text/plain": [
       "<matplotlib.figure.Figure at 0x11acca780>"
      ]
     },
     "metadata": {},
     "output_type": "display_data"
    }
   ],
   "source": [
    "#plot 'learning curve'\n",
    "plt.figure()\n",
    "test_scores=regressor_rfr.cv_results_['mean_test_score']\n",
    "plt.plot([10, 50, 100, 110, 120, 130, 140, 150, 200, 300, 400, 500],test_scores)\n",
    "plt.savefig('RandomForest_LearninCurve')\n",
    "plt.show()"
   ]
  },
  {
   "cell_type": "code",
   "execution_count": 14,
   "metadata": {},
   "outputs": [
    {
     "data": {
      "text/plain": [
       "{'n_estimators': 200}"
      ]
     },
     "execution_count": 14,
     "metadata": {},
     "output_type": "execute_result"
    }
   ],
   "source": [
    "regressor_rfr.best_params_"
   ]
  },
  {
   "cell_type": "code",
   "execution_count": null,
   "metadata": {
    "collapsed": true
   },
   "outputs": [],
   "source": []
  },
  {
   "cell_type": "code",
   "execution_count": 33,
   "metadata": {
    "collapsed": true
   },
   "outputs": [],
   "source": [
    "# DecisionTree regressor: "
   ]
  },
  {
   "cell_type": "code",
   "execution_count": 86,
   "metadata": {
    "collapsed": true
   },
   "outputs": [],
   "source": [
    "# DecisionTree regressor: \n",
    "dtr=DecisionTreeRegressor()\n",
    "min_samples_split_values=list(map(int,np.linspace(2,3002,11)))\n",
    "min_samples_leaf_values=list(map(int,np.linspace(1,3001,11)))\n",
    "\n",
    "\n",
    "dtr_parameters={'min_samples_split':min_samples_split_values,\n",
    "           'min_samples_leaf':min_samples_leaf_values,\n",
    "           'max_depth':[None, 5, 10, 15, 20, 25]}\n",
    "\n"
   ]
  },
  {
   "cell_type": "code",
   "execution_count": 87,
   "metadata": {},
   "outputs": [
    {
     "name": "stdout",
     "output_type": "stream",
     "text": [
      "CPU times: user 32min 44s, sys: 7min 1s, total: 39min 45s\n",
      "Wall time: 2h 1min 17s\n"
     ]
    }
   ],
   "source": [
    "%%time\n",
    "regressor_dt=GridSearchCV(dtr,dtr_parameters)\n",
    "regressor_dt.fit(gridsearch_features,gridsearch_labels)"
   ]
  },
  {
   "cell_type": "code",
   "execution_count": 88,
   "metadata": {},
   "outputs": [
    {
     "data": {
      "text/plain": [
       "['regressor_dt2']"
      ]
     },
     "execution_count": 88,
     "metadata": {},
     "output_type": "execute_result"
    }
   ],
   "source": [
    "#joblib.dump(regressor_dt,'regressor_dt2')"
   ]
  },
  {
   "cell_type": "code",
   "execution_count": 20,
   "metadata": {},
   "outputs": [
    {
     "name": "stderr",
     "output_type": "stream",
     "text": [
      "/Users/zhe/anaconda3/lib/python3.6/site-packages/sklearn/base.py:311: UserWarning: Trying to unpickle estimator DecisionTreeRegressor from version 0.19.0 when using version 0.19.1. This might lead to breaking code or invalid results. Use at your own risk.\n",
      "  UserWarning)\n",
      "/Users/zhe/anaconda3/lib/python3.6/site-packages/sklearn/base.py:311: UserWarning: Trying to unpickle estimator GridSearchCV from version 0.19.0 when using version 0.19.1. This might lead to breaking code or invalid results. Use at your own risk.\n",
      "  UserWarning)\n"
     ]
    }
   ],
   "source": [
    "regressor_dt=joblib.load('regressor_dt2')"
   ]
  },
  {
   "cell_type": "code",
   "execution_count": 21,
   "metadata": {},
   "outputs": [
    {
     "data": {
      "text/plain": [
       "{'max_depth': None, 'min_samples_leaf': 1, 'min_samples_split': 302}"
      ]
     },
     "execution_count": 21,
     "metadata": {},
     "output_type": "execute_result"
    }
   ],
   "source": [
    "regressor_dt.best_params_"
   ]
  },
  {
   "cell_type": "code",
   "execution_count": null,
   "metadata": {
    "collapsed": true
   },
   "outputs": [],
   "source": []
  },
  {
   "cell_type": "code",
   "execution_count": 91,
   "metadata": {
    "collapsed": true
   },
   "outputs": [],
   "source": [
    "#KNeighborsRegressor \n",
    "KNR=KNeighborsRegressor()\n",
    "KNR_parameters={'n_neighbors':[2,5,10,15,30],'p':[1,2]}"
   ]
  },
  {
   "cell_type": "code",
   "execution_count": 92,
   "metadata": {},
   "outputs": [
    {
     "name": "stdout",
     "output_type": "stream",
     "text": [
      "CPU times: user 43min 45s, sys: 16.6 s, total: 44min 1s\n",
      "Wall time: 1h 3min 47s\n"
     ]
    }
   ],
   "source": [
    "%%time\n",
    "regressor_KNR=GridSearchCV(KNR,KNR_parameters)\n",
    "regressor_KNR.fit(gridsearch_features,gridsearch_labels)"
   ]
  },
  {
   "cell_type": "code",
   "execution_count": 93,
   "metadata": {},
   "outputs": [
    {
     "data": {
      "text/plain": [
       "['regressor_KNR2']"
      ]
     },
     "execution_count": 93,
     "metadata": {},
     "output_type": "execute_result"
    }
   ],
   "source": [
    "#joblib.dump(regressor_KNR,'regressor_KNR2')"
   ]
  },
  {
   "cell_type": "code",
   "execution_count": 16,
   "metadata": {},
   "outputs": [
    {
     "name": "stderr",
     "output_type": "stream",
     "text": [
      "/Users/zhe/anaconda3/lib/python3.6/site-packages/sklearn/base.py:311: UserWarning: Trying to unpickle estimator KNeighborsRegressor from version 0.19.0 when using version 0.19.1. This might lead to breaking code or invalid results. Use at your own risk.\n",
      "  UserWarning)\n",
      "/Users/zhe/anaconda3/lib/python3.6/site-packages/sklearn/base.py:311: UserWarning: Trying to unpickle estimator GridSearchCV from version 0.19.0 when using version 0.19.1. This might lead to breaking code or invalid results. Use at your own risk.\n",
      "  UserWarning)\n"
     ]
    }
   ],
   "source": [
    "regressor_KNR=joblib.load('regressor_KNR2')"
   ]
  },
  {
   "cell_type": "code",
   "execution_count": 120,
   "metadata": {
    "collapsed": true
   },
   "outputs": [],
   "source": [
    "KNR_test_scores=[regressor_KNR.cv_results_['mean_test_score'][i] for i in range(10)  if i%2 !=0 ]"
   ]
  },
  {
   "cell_type": "code",
   "execution_count": 121,
   "metadata": {},
   "outputs": [
    {
     "data": {
      "image/png": "[encoded data removed]",
      "text/plain": [
       "<matplotlib.figure.Figure at 0x1a1d3c7400>"
      ]
     },
     "metadata": {},
     "output_type": "display_data"
    }
   ],
   "source": [
    "plt.figure()\n",
    "plt.plot([2,5,10,15,30],KNR_test_scores)\n",
    "plt.savefig('KNR_LearninCurve')\n",
    "plt.show()"
   ]
  },
  {
   "cell_type": "code",
   "execution_count": 17,
   "metadata": {},
   "outputs": [
    {
     "data": {
      "text/plain": [
       "{'n_neighbors': 5, 'p': 1}"
      ]
     },
     "execution_count": 17,
     "metadata": {},
     "output_type": "execute_result"
    }
   ],
   "source": [
    "regressor_KNR.best_params_"
   ]
  },
  {
   "cell_type": "code",
   "execution_count": null,
   "metadata": {
    "collapsed": true
   },
   "outputs": [],
   "source": []
  },
  {
   "cell_type": "code",
   "execution_count": null,
   "metadata": {
    "collapsed": true
   },
   "outputs": [],
   "source": [
    "###################################\n",
    "###################################\n",
    "#compare different algorithms"
   ]
  },
  {
   "cell_type": "code",
   "execution_count": 56,
   "metadata": {},
   "outputs": [
    {
     "name": "stdout",
     "output_type": "stream",
     "text": [
      "CPU times: user 10min 49s, sys: 3.63 s, total: 10min 52s\n",
      "Wall time: 3h 1min 8s\n"
     ]
    }
   ],
   "source": [
    "%%time\n",
    "lr_ridge_best=linear_model.Ridge(solver='sag', alpha= 0.8)\n",
    "lr_lasso_best=linear_model.Lasso(max_iter=20000, alpha= 0.04, normalize= False)\n",
    "rfr_best=RandomForestRegressor(n_estimators= 200)\n",
    "dtr_best=DecisionTreeRegressor(max_depth= None, min_samples_leaf= 1, min_samples_split= 302)\n",
    "KNR_best=KNeighborsRegressor(n_neighbors= 5, p= 1)\n",
    "model_ls=[lr_ridge_best, lr_lasso_best, rfr_best, dtr_best, KNR_best]\n",
    "mae_ls=[]\n",
    "for model in model_ls:\n",
    "    model.fit(gridsearch_features,gridsearch_labels)\n",
    "    label_pred=model.predict(validate_features)\n",
    "    mae=mean_absolute_error(validate_labels,label_pred)\n",
    "    mae_ls.append(mae)"
   ]
  },
  {
   "cell_type": "code",
   "execution_count": 77,
   "metadata": {},
   "outputs": [
    {
     "data": {
      "text/plain": [
       "['mae_ls']"
      ]
     },
     "execution_count": 77,
     "metadata": {},
     "output_type": "execute_result"
    }
   ],
   "source": [
    "#joblib.dump(mae_ls,'mae_ls')"
   ]
  },
  {
   "cell_type": "code",
   "execution_count": 78,
   "metadata": {
    "collapsed": true
   },
   "outputs": [],
   "source": [
    "mae_ls=joblib.load('mae_ls')"
   ]
  },
  {
   "cell_type": "code",
   "execution_count": 76,
   "metadata": {},
   "outputs": [
    {
     "data": {
      "text/plain": [
       "[3326.3581806850852,\n",
       " 2645.1739944034757,\n",
       " 1257.1436050826599,\n",
       " 1628.0181795322319,\n",
       " 1537.1582216602155]"
      ]
     },
     "execution_count": 76,
     "metadata": {},
     "output_type": "execute_result"
    }
   ],
   "source": [
    "#mae_ls"
   ]
  },
  {
   "cell_type": "code",
   "execution_count": 57,
   "metadata": {
    "collapsed": true
   },
   "outputs": [],
   "source": [
    "#Select RandomForest as the best algorithm for our task, para:300 estimators"
   ]
  },
  {
   "cell_type": "code",
   "execution_count": 58,
   "metadata": {
    "collapsed": true
   },
   "outputs": [],
   "source": [
    "test=TransformTest(test,train,100,150000,1950,2017,10,500,100)"
   ]
  },
  {
   "cell_type": "code",
   "execution_count": 59,
   "metadata": {
    "collapsed": true
   },
   "outputs": [],
   "source": [
    "#seperate features and labels in test set\n",
    "x_test=test.drop('price',axis=1)\n",
    "y_test=test['price']"
   ]
  },
  {
   "cell_type": "code",
   "execution_count": 60,
   "metadata": {},
   "outputs": [
    {
     "name": "stdout",
     "output_type": "stream",
     "text": [
      "CPU times: user 10min 34s, sys: 2.52 s, total: 10min 37s\n",
      "Wall time: 1h 18min 19s\n"
     ]
    }
   ],
   "source": [
    "%%time\n",
    "#build the final model\n",
    "final_model=RandomForestRegressor(n_estimators= 200)\n",
    "final_model.fit(x_train,y_train)"
   ]
  },
  {
   "cell_type": "code",
   "execution_count": 61,
   "metadata": {
    "collapsed": true
   },
   "outputs": [],
   "source": [
    "final_model_pred=final_model.predict(x_test)\n",
    "final_model_mae=mean_absolute_error(y_test,final_model_pred)"
   ]
  },
  {
   "cell_type": "code",
   "execution_count": 62,
   "metadata": {},
   "outputs": [
    {
     "name": "stdout",
     "output_type": "stream",
     "text": [
      "final model (RandomForestRegressor) result: \n",
      "mean_absolute_error is:  1834.92271705\n"
     ]
    }
   ],
   "source": [
    "print('final model (RandomForestRegressor) result: ')\n",
    "print('mean_absolute_error is: ',final_model_mae)"
   ]
  },
  {
   "cell_type": "code",
   "execution_count": 75,
   "metadata": {},
   "outputs": [
    {
     "data": {
      "text/plain": [
       "['final_model_RS1']"
      ]
     },
     "execution_count": 75,
     "metadata": {},
     "output_type": "execute_result"
    }
   ],
   "source": [
    "joblib.dump(final_model,'final_model_RS1')"
   ]
  },
  {
   "cell_type": "code",
   "execution_count": 64,
   "metadata": {},
   "outputs": [
    {
     "data": {
      "image/png": "[encoded data removed]",
      "text/plain": [
       "<matplotlib.figure.Figure at 0x11337c898>"
      ]
     },
     "metadata": {},
     "output_type": "display_data"
    }
   ],
   "source": [
    "#visualizd result:\n",
    "#graph1: final model\n",
    "plt.figure()\n",
    "plt.scatter(y_test,final_model_pred,s=20)\n",
    "plt.plot([0,140000],[0,140000],c='red')\n",
    "plt.title('Predicted vs Actual final model')\n",
    "plt.xlabel('Actual Price')\n",
    "plt.ylabel('Predicted Price')\n",
    "plt.savefig('Predicted vs Actual final model')\n",
    "\n",
    "plt.show()"
   ]
  },
  {
   "cell_type": "code",
   "execution_count": null,
   "metadata": {
    "collapsed": true
   },
   "outputs": [],
   "source": []
  },
  {
   "cell_type": "code",
   "execution_count": 65,
   "metadata": {
    "collapsed": true
   },
   "outputs": [],
   "source": [
    "#plot feature importance graph for final model"
   ]
  },
  {
   "cell_type": "code",
   "execution_count": 66,
   "metadata": {},
   "outputs": [
    {
     "data": {
      "image/png": "[encoded data removed]",
      "text/plain": [
       "<matplotlib.figure.Figure at 0x11337c550>"
      ]
     },
     "metadata": {},
     "output_type": "display_data"
    }
   ],
   "source": [
    "col_names=x_train.columns.values\n",
    "#col_names\n",
    "categorical_variable=list(cat)\n",
    "#cat_list\n",
    "graph_feature_importances(final_model, col_names, summarized_columns=categorical_variable)\n",
    "plt.savefig('feature_importance of final model')\n",
    "plt.show()"
   ]
  },
  {
   "cell_type": "code",
   "execution_count": null,
   "metadata": {
    "collapsed": true
   },
   "outputs": [],
   "source": []
  },
  {
   "cell_type": "code",
   "execution_count": null,
   "metadata": {
    "collapsed": true
   },
   "outputs": [],
   "source": []
  },
  {
   "cell_type": "code",
   "execution_count": 67,
   "metadata": {
    "collapsed": true
   },
   "outputs": [],
   "source": [
    "#experiment the subset of features as suggest by the feature importance graph"
   ]
  },
  {
   "cell_type": "code",
   "execution_count": 68,
   "metadata": {
    "collapsed": true
   },
   "outputs": [],
   "source": [
    "subset_model=RandomForestRegressor(n_estimators= 200)"
   ]
  },
  {
   "cell_type": "code",
   "execution_count": 69,
   "metadata": {
    "collapsed": true
   },
   "outputs": [],
   "source": [
    "x_subset_train=x_train.drop(['seller_gewerblich','seller_privat'],axis=1)\n",
    "y_subset_train=y_train\n",
    "x_subset_test=x_test.drop(['seller_privat','seller_gewerblich'],axis=1)"
   ]
  },
  {
   "cell_type": "code",
   "execution_count": 70,
   "metadata": {},
   "outputs": [
    {
     "data": {
      "text/plain": [
       "RandomForestRegressor(bootstrap=True, criterion='mse', max_depth=None,\n",
       "           max_features='auto', max_leaf_nodes=None,\n",
       "           min_impurity_decrease=0.0, min_impurity_split=None,\n",
       "           min_samples_leaf=1, min_samples_split=2,\n",
       "           min_weight_fraction_leaf=0.0, n_estimators=200, n_jobs=1,\n",
       "           oob_score=False, random_state=None, verbose=0, warm_start=False)"
      ]
     },
     "execution_count": 70,
     "metadata": {},
     "output_type": "execute_result"
    }
   ],
   "source": [
    "subset_model.fit(x_subset_train,y_subset_train)"
   ]
  },
  {
   "cell_type": "code",
   "execution_count": 71,
   "metadata": {
    "collapsed": true
   },
   "outputs": [],
   "source": [
    "subset_model_pred=subset_model.predict(x_subset_test)"
   ]
  },
  {
   "cell_type": "code",
   "execution_count": 72,
   "metadata": {
    "collapsed": true
   },
   "outputs": [],
   "source": [
    "subset_model_mae=mean_absolute_error(y_test,subset_model_pred)"
   ]
  },
  {
   "cell_type": "code",
   "execution_count": 73,
   "metadata": {},
   "outputs": [
    {
     "data": {
      "text/plain": [
       "1833.9575355709467"
      ]
     },
     "execution_count": 73,
     "metadata": {},
     "output_type": "execute_result"
    }
   ],
   "source": [
    "subset_model_mae"
   ]
  },
  {
   "cell_type": "code",
   "execution_count": 74,
   "metadata": {},
   "outputs": [
    {
     "data": {
      "text/plain": [
       "['subset_model']"
      ]
     },
     "execution_count": 74,
     "metadata": {},
     "output_type": "execute_result"
    }
   ],
   "source": [
    "joblib.dump(subset_model,'subset_model')"
   ]
  },
  {
   "cell_type": "code",
   "execution_count": null,
   "metadata": {
    "collapsed": true
   },
   "outputs": [],
   "source": [
    "#after selecting subset, mae even go down a little"
   ]
  },
  {
   "cell_type": "code",
   "execution_count": null,
   "metadata": {
    "collapsed": true
   },
   "outputs": [],
   "source": []
  },
  {
   "cell_type": "raw",
   "metadata": {},
   "source": [
    "conclusion:\n",
    "testing on the same test set, the base line has mae of 29426.573146846615 while our final model achieve a huge improvement and has a mae of 1834.92271705. we also try the subset of features used for the final model as suggested by the feature importances. The subset model preform almost the same：1833.9575355709467 "
   ]
  }
 ],
 "metadata": {
  "kernelspec": {
   "display_name": "Python 3",
   "language": "python",
   "name": "python3"
  },
  "language_info": {
   "codemirror_mode": {
    "name": "ipython",
    "version": 3
   },
   "file_extension": ".py",
   "mimetype": "text/x-python",
   "name": "python",
   "nbconvert_exporter": "python",
   "pygments_lexer": "ipython3",
   "version": "3.6.1"
  }
 },
 "nbformat": 4,
 "nbformat_minor": 2
}
