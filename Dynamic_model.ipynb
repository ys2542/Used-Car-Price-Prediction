{
 "cells": [
  {
   "cell_type": "code",
   "execution_count": 6,
   "metadata": {
    "collapsed": true
   },
   "outputs": [],
   "source": [
    "import pandas as pd\n",
    "import numpy as np\n",
    "import collections\n",
    "from functools import partial\n",
    "from sklearn.model_selection import train_test_split\n",
    "from sklearn.ensemble import RandomForestRegressor\n",
    "from sklearn.metrics import mean_absolute_error\n",
    "from matplotlib import pyplot as plt\n",
    "\n",
    "import warnings\n",
    "warnings.filterwarnings(action = 'once')"
   ]
  },
  {
   "cell_type": "code",
   "execution_count": 13,
   "metadata": {
    "collapsed": true,
    "scrolled": false
   },
   "outputs": [],
   "source": [
    "path = \"C:/Users/Daoyang Shan/Desktop/1001 Cars/autos.csv\"\n",
    "data = pd.read_csv(path, sep = ',', header = 0, encoding = 'cp1252')\n",
    "\n",
    "del_var=['dateCrawled', 'name', 'offerType', 'abtest', 'monthOfRegistration', \n",
    "         'brand', 'dateCreated', 'nrOfPictures', 'postalCode', 'lastSeen']\n",
    "\n",
    "data = data.drop(labels = del_var,axis = 1)"
   ]
  },
  {
   "cell_type": "code",
   "execution_count": 14,
   "metadata": {
    "collapsed": true
   },
   "outputs": [],
   "source": [
    "data = data[(data['price'] > 100) & (data['price'] < 150000) &\n",
    "            (data['yearOfRegistration'] > 1950) & (data['yearOfRegistration'] < 2017) &\n",
    "            (data['powerPS'] > 10) & (data['powerPS'] < 500)]\n",
    "\n",
    "data = data.replace(np.nan,'notDeclared')"
   ]
  },
  {
   "cell_type": "code",
   "execution_count": 15,
   "metadata": {
    "collapsed": true
   },
   "outputs": [
    {
     "name": "stderr",
     "output_type": "stream",
     "text": [
      "C:\\Users\\Daoyang Shan\\Anaconda3\\lib\\site-packages\\ipykernel_launcher.py:23: SettingWithCopyWarning: \n",
      "A value is trying to be set on a copy of a slice from a DataFrame.\n",
      "Try using .loc[row_indexer,col_indexer] = value instead\n",
      "\n",
      "See the caveats in the documentation: http://pandas.pydata.org/pandas-docs/stable/indexing.html#indexing-view-versus-copy\n"
     ]
    }
   ],
   "source": [
    "# Simulate the process of adding on new data \n",
    "all_train, test = train_test_split(data, test_size = 0.2)\n",
    "train, add_on = train_test_split(all_train, test_size = 0.4)\n",
    "batches = np.array_split(add_on, 12)\n",
    "\n",
    "# Handle rare models in the original train set\n",
    "model_counter = collections.defaultdict(int)\n",
    "model_counter['andere'] = 101\n",
    "rare_models = set()\n",
    "s1 = train['model'].value_counts()\n",
    "\n",
    "for model in list(s1.index):\n",
    "    model_counter[model] += s1.loc[model]\n",
    "    if s1[model] < 100:\n",
    "        rare_models.add(model)\n",
    "\n",
    "def partial_convert(c, rare_models, model_counter):\n",
    "    if c['model'] in rare_models or c['model'] not in model_counter:\n",
    "        return 'rareModel'\n",
    "    return c['model']\n",
    "\n",
    "partial_func = partial(partial_convert, rare_models = rare_models, model_counter = model_counter)\n",
    "train['modifiedModel'] = train.apply(partial_func, axis = 1)\n",
    "\n",
    "counter_copy = model_counter.copy()\n",
    "rare_models_copy = rare_models.copy()"
   ]
  },
  {
   "cell_type": "code",
   "execution_count": 16,
   "metadata": {
    "scrolled": false
   },
   "outputs": [
    {
     "name": "stdout",
     "output_type": "stream",
     "text": [
      "batches added: 1\n",
      "batches added: 2\n",
      "batches added: 3\n",
      "batches added: 4\n",
      "batches added: 5\n",
      "batches added: 6\n",
      "batches added: 7\n",
      "batches added: 8\n",
      "batches added: 9\n",
      "batches added: 10\n",
      "batches added: 11\n",
      "batches added: 12\n"
     ]
    }
   ],
   "source": [
    "# If we simulate a real world scenario in which we test on first batch, then combine original train set and batch 1 and test on\n",
    "# batch 2, and so on, what will happen?\n",
    "\n",
    "mae_dynamic = []\n",
    "train1 = train.copy()\n",
    "\n",
    "# Add batches to the previous train data, update rare_list, retrain model\n",
    "for i in range(12):\n",
    "    cur_batch = batches[i]\n",
    "    cur_batch['modifiedModel'] = cur_batch.apply(partial_func, axis = 1)\n",
    "    cur_batch_size = cur_batch.shape[0]\n",
    "    \n",
    "    # Concat original train data and batch, dummify, and seperate\n",
    "    temp = pd.concat([train1, cur_batch], ignore_index = True).drop(['model'], axis = 1)\n",
    "    cat_list = list(temp.columns[temp.dtypes == object])\n",
    "    temp_withdummies = pd.get_dummies(temp, columns = cat_list)\n",
    "    \n",
    "    batch_withdummies = temp_withdummies.tail(cur_batch_size)\n",
    "    train_withdummies = temp_withdummies.iloc[:-cur_batch_size]\n",
    "    \n",
    "    # Train_Test split, train model\n",
    "    twd_Y = train_withdummies['price']\n",
    "    twd_X = train_withdummies.drop('price', axis = 1)\n",
    "    bwd_Y = batch_withdummies['price']\n",
    "    bwd_X = batch_withdummies.drop('price', axis = 1)\n",
    "    \n",
    "    rf = RandomForestRegressor()\n",
    "    rf.fit(twd_X, twd_Y)\n",
    "    pred = rf.predict(bwd_X)\n",
    "    cur_mae = mean_absolute_error(bwd_Y, pred)\n",
    "    mae_dynamic.append(cur_mae)\n",
    "    print ('batches added: {}'.format(i + 1))\n",
    "    \n",
    "    # Now, update rare model list and combine data\n",
    "    si = cur_batch['model'].value_counts()\n",
    "\n",
    "    for model in list(si.index):\n",
    "        model_counter[model] += si.loc[model]\n",
    "        if (model_counter[model] >= 100) and (model in rare_models):\n",
    "            rare_models.remove(model)\n",
    "        if (model_counter[model] < 100) and (model not in rare_models):\n",
    "            rare_models.add(model)\n",
    "    \n",
    "    train1.drop('modifiedModel', axis = 1, inplace = True)\n",
    "    train1 = pd.concat([train1, cur_batch], ignore_index = True)\n",
    "    train1['modifiedModel'] = train1.apply(partial_func, axis = 1)"
   ]
  },
  {
   "cell_type": "code",
   "execution_count": 20,
   "metadata": {},
   "outputs": [
    {
     "data": {
      "image/png": "[encoded data removed]",
      "text/plain": [
       "<matplotlib.figure.Figure at 0x1df0c363240>"
      ]
     },
     "metadata": {},
     "output_type": "display_data"
    }
   ],
   "source": [
    "plt.figure()\n",
    "plt.plot(mae_dynamic)\n",
    "plt.savefig('dynamic.png')\n",
    "plt.show()"
   ]
  },
  {
   "cell_type": "code",
   "execution_count": 18,
   "metadata": {
    "collapsed": true
   },
   "outputs": [
    {
     "name": "stderr",
     "output_type": "stream",
     "text": [
      "C:\\Users\\Daoyang Shan\\Anaconda3\\lib\\site-packages\\ipykernel_launcher.py:16: SettingWithCopyWarning: \n",
      "A value is trying to be set on a copy of a slice from a DataFrame.\n",
      "Try using .loc[row_indexer,col_indexer] = value instead\n",
      "\n",
      "See the caveats in the documentation: http://pandas.pydata.org/pandas-docs/stable/indexing.html#indexing-view-versus-copy\n",
      "  app.launch_new_instance()\n"
     ]
    },
    {
     "name": "stdout",
     "output_type": "stream",
     "text": [
      "batches added: 1\n"
     ]
    },
    {
     "name": "stderr",
     "output_type": "stream",
     "text": [
      "C:\\Users\\Daoyang Shan\\Anaconda3\\lib\\site-packages\\ipykernel_launcher.py:52: SettingWithCopyWarning: \n",
      "A value is trying to be set on a copy of a slice from a DataFrame\n",
      "\n",
      "See the caveats in the documentation: http://pandas.pydata.org/pandas-docs/stable/indexing.html#indexing-view-versus-copy\n",
      "C:\\Users\\Daoyang Shan\\Anaconda3\\lib\\site-packages\\ipykernel_launcher.py:16: SettingWithCopyWarning: \n",
      "A value is trying to be set on a copy of a slice from a DataFrame.\n",
      "Try using .loc[row_indexer,col_indexer] = value instead\n",
      "\n",
      "See the caveats in the documentation: http://pandas.pydata.org/pandas-docs/stable/indexing.html#indexing-view-versus-copy\n",
      "  app.launch_new_instance()\n"
     ]
    },
    {
     "name": "stdout",
     "output_type": "stream",
     "text": [
      "batches added: 2\n"
     ]
    },
    {
     "name": "stderr",
     "output_type": "stream",
     "text": [
      "C:\\Users\\Daoyang Shan\\Anaconda3\\lib\\site-packages\\ipykernel_launcher.py:52: SettingWithCopyWarning: \n",
      "A value is trying to be set on a copy of a slice from a DataFrame\n",
      "\n",
      "See the caveats in the documentation: http://pandas.pydata.org/pandas-docs/stable/indexing.html#indexing-view-versus-copy\n",
      "C:\\Users\\Daoyang Shan\\Anaconda3\\lib\\site-packages\\ipykernel_launcher.py:16: SettingWithCopyWarning: \n",
      "A value is trying to be set on a copy of a slice from a DataFrame.\n",
      "Try using .loc[row_indexer,col_indexer] = value instead\n",
      "\n",
      "See the caveats in the documentation: http://pandas.pydata.org/pandas-docs/stable/indexing.html#indexing-view-versus-copy\n",
      "  app.launch_new_instance()\n"
     ]
    },
    {
     "name": "stdout",
     "output_type": "stream",
     "text": [
      "batches added: 3\n"
     ]
    },
    {
     "name": "stderr",
     "output_type": "stream",
     "text": [
      "C:\\Users\\Daoyang Shan\\Anaconda3\\lib\\site-packages\\ipykernel_launcher.py:52: SettingWithCopyWarning: \n",
      "A value is trying to be set on a copy of a slice from a DataFrame\n",
      "\n",
      "See the caveats in the documentation: http://pandas.pydata.org/pandas-docs/stable/indexing.html#indexing-view-versus-copy\n",
      "C:\\Users\\Daoyang Shan\\Anaconda3\\lib\\site-packages\\ipykernel_launcher.py:16: SettingWithCopyWarning: \n",
      "A value is trying to be set on a copy of a slice from a DataFrame.\n",
      "Try using .loc[row_indexer,col_indexer] = value instead\n",
      "\n",
      "See the caveats in the documentation: http://pandas.pydata.org/pandas-docs/stable/indexing.html#indexing-view-versus-copy\n",
      "  app.launch_new_instance()\n"
     ]
    },
    {
     "name": "stdout",
     "output_type": "stream",
     "text": [
      "batches added: 4\n"
     ]
    },
    {
     "name": "stderr",
     "output_type": "stream",
     "text": [
      "C:\\Users\\Daoyang Shan\\Anaconda3\\lib\\site-packages\\ipykernel_launcher.py:52: SettingWithCopyWarning: \n",
      "A value is trying to be set on a copy of a slice from a DataFrame\n",
      "\n",
      "See the caveats in the documentation: http://pandas.pydata.org/pandas-docs/stable/indexing.html#indexing-view-versus-copy\n",
      "C:\\Users\\Daoyang Shan\\Anaconda3\\lib\\site-packages\\ipykernel_launcher.py:16: SettingWithCopyWarning: \n",
      "A value is trying to be set on a copy of a slice from a DataFrame.\n",
      "Try using .loc[row_indexer,col_indexer] = value instead\n",
      "\n",
      "See the caveats in the documentation: http://pandas.pydata.org/pandas-docs/stable/indexing.html#indexing-view-versus-copy\n",
      "  app.launch_new_instance()\n"
     ]
    },
    {
     "name": "stdout",
     "output_type": "stream",
     "text": [
      "batches added: 5\n"
     ]
    },
    {
     "name": "stderr",
     "output_type": "stream",
     "text": [
      "C:\\Users\\Daoyang Shan\\Anaconda3\\lib\\site-packages\\ipykernel_launcher.py:52: SettingWithCopyWarning: \n",
      "A value is trying to be set on a copy of a slice from a DataFrame\n",
      "\n",
      "See the caveats in the documentation: http://pandas.pydata.org/pandas-docs/stable/indexing.html#indexing-view-versus-copy\n",
      "C:\\Users\\Daoyang Shan\\Anaconda3\\lib\\site-packages\\ipykernel_launcher.py:16: SettingWithCopyWarning: \n",
      "A value is trying to be set on a copy of a slice from a DataFrame.\n",
      "Try using .loc[row_indexer,col_indexer] = value instead\n",
      "\n",
      "See the caveats in the documentation: http://pandas.pydata.org/pandas-docs/stable/indexing.html#indexing-view-versus-copy\n",
      "  app.launch_new_instance()\n"
     ]
    },
    {
     "name": "stdout",
     "output_type": "stream",
     "text": [
      "batches added: 6\n"
     ]
    },
    {
     "name": "stderr",
     "output_type": "stream",
     "text": [
      "C:\\Users\\Daoyang Shan\\Anaconda3\\lib\\site-packages\\ipykernel_launcher.py:52: SettingWithCopyWarning: \n",
      "A value is trying to be set on a copy of a slice from a DataFrame\n",
      "\n",
      "See the caveats in the documentation: http://pandas.pydata.org/pandas-docs/stable/indexing.html#indexing-view-versus-copy\n",
      "C:\\Users\\Daoyang Shan\\Anaconda3\\lib\\site-packages\\ipykernel_launcher.py:16: SettingWithCopyWarning: \n",
      "A value is trying to be set on a copy of a slice from a DataFrame.\n",
      "Try using .loc[row_indexer,col_indexer] = value instead\n",
      "\n",
      "See the caveats in the documentation: http://pandas.pydata.org/pandas-docs/stable/indexing.html#indexing-view-versus-copy\n",
      "  app.launch_new_instance()\n"
     ]
    },
    {
     "name": "stdout",
     "output_type": "stream",
     "text": [
      "batches added: 7\n"
     ]
    },
    {
     "name": "stderr",
     "output_type": "stream",
     "text": [
      "C:\\Users\\Daoyang Shan\\Anaconda3\\lib\\site-packages\\ipykernel_launcher.py:52: SettingWithCopyWarning: \n",
      "A value is trying to be set on a copy of a slice from a DataFrame\n",
      "\n",
      "See the caveats in the documentation: http://pandas.pydata.org/pandas-docs/stable/indexing.html#indexing-view-versus-copy\n",
      "C:\\Users\\Daoyang Shan\\Anaconda3\\lib\\site-packages\\ipykernel_launcher.py:16: SettingWithCopyWarning: \n",
      "A value is trying to be set on a copy of a slice from a DataFrame.\n",
      "Try using .loc[row_indexer,col_indexer] = value instead\n",
      "\n",
      "See the caveats in the documentation: http://pandas.pydata.org/pandas-docs/stable/indexing.html#indexing-view-versus-copy\n",
      "  app.launch_new_instance()\n"
     ]
    },
    {
     "name": "stdout",
     "output_type": "stream",
     "text": [
      "batches added: 8\n"
     ]
    },
    {
     "name": "stderr",
     "output_type": "stream",
     "text": [
      "C:\\Users\\Daoyang Shan\\Anaconda3\\lib\\site-packages\\ipykernel_launcher.py:52: SettingWithCopyWarning: \n",
      "A value is trying to be set on a copy of a slice from a DataFrame\n",
      "\n",
      "See the caveats in the documentation: http://pandas.pydata.org/pandas-docs/stable/indexing.html#indexing-view-versus-copy\n",
      "C:\\Users\\Daoyang Shan\\Anaconda3\\lib\\site-packages\\ipykernel_launcher.py:16: SettingWithCopyWarning: \n",
      "A value is trying to be set on a copy of a slice from a DataFrame.\n",
      "Try using .loc[row_indexer,col_indexer] = value instead\n",
      "\n",
      "See the caveats in the documentation: http://pandas.pydata.org/pandas-docs/stable/indexing.html#indexing-view-versus-copy\n",
      "  app.launch_new_instance()\n"
     ]
    },
    {
     "name": "stdout",
     "output_type": "stream",
     "text": [
      "batches added: 9\n"
     ]
    },
    {
     "name": "stderr",
     "output_type": "stream",
     "text": [
      "C:\\Users\\Daoyang Shan\\Anaconda3\\lib\\site-packages\\ipykernel_launcher.py:52: SettingWithCopyWarning: \n",
      "A value is trying to be set on a copy of a slice from a DataFrame\n",
      "\n",
      "See the caveats in the documentation: http://pandas.pydata.org/pandas-docs/stable/indexing.html#indexing-view-versus-copy\n",
      "C:\\Users\\Daoyang Shan\\Anaconda3\\lib\\site-packages\\ipykernel_launcher.py:16: SettingWithCopyWarning: \n",
      "A value is trying to be set on a copy of a slice from a DataFrame.\n",
      "Try using .loc[row_indexer,col_indexer] = value instead\n",
      "\n",
      "See the caveats in the documentation: http://pandas.pydata.org/pandas-docs/stable/indexing.html#indexing-view-versus-copy\n",
      "  app.launch_new_instance()\n"
     ]
    },
    {
     "name": "stdout",
     "output_type": "stream",
     "text": [
      "batches added: 10\n"
     ]
    },
    {
     "name": "stderr",
     "output_type": "stream",
     "text": [
      "C:\\Users\\Daoyang Shan\\Anaconda3\\lib\\site-packages\\ipykernel_launcher.py:52: SettingWithCopyWarning: \n",
      "A value is trying to be set on a copy of a slice from a DataFrame\n",
      "\n",
      "See the caveats in the documentation: http://pandas.pydata.org/pandas-docs/stable/indexing.html#indexing-view-versus-copy\n",
      "C:\\Users\\Daoyang Shan\\Anaconda3\\lib\\site-packages\\ipykernel_launcher.py:16: SettingWithCopyWarning: \n",
      "A value is trying to be set on a copy of a slice from a DataFrame.\n",
      "Try using .loc[row_indexer,col_indexer] = value instead\n",
      "\n",
      "See the caveats in the documentation: http://pandas.pydata.org/pandas-docs/stable/indexing.html#indexing-view-versus-copy\n",
      "  app.launch_new_instance()\n"
     ]
    },
    {
     "name": "stdout",
     "output_type": "stream",
     "text": [
      "batches added: 11\n"
     ]
    },
    {
     "name": "stderr",
     "output_type": "stream",
     "text": [
      "C:\\Users\\Daoyang Shan\\Anaconda3\\lib\\site-packages\\ipykernel_launcher.py:52: SettingWithCopyWarning: \n",
      "A value is trying to be set on a copy of a slice from a DataFrame\n",
      "\n",
      "See the caveats in the documentation: http://pandas.pydata.org/pandas-docs/stable/indexing.html#indexing-view-versus-copy\n",
      "C:\\Users\\Daoyang Shan\\Anaconda3\\lib\\site-packages\\ipykernel_launcher.py:16: SettingWithCopyWarning: \n",
      "A value is trying to be set on a copy of a slice from a DataFrame.\n",
      "Try using .loc[row_indexer,col_indexer] = value instead\n",
      "\n",
      "See the caveats in the documentation: http://pandas.pydata.org/pandas-docs/stable/indexing.html#indexing-view-versus-copy\n",
      "  app.launch_new_instance()\n"
     ]
    },
    {
     "name": "stdout",
     "output_type": "stream",
     "text": [
      "batches added: 12\n"
     ]
    },
    {
     "name": "stderr",
     "output_type": "stream",
     "text": [
      "C:\\Users\\Daoyang Shan\\Anaconda3\\lib\\site-packages\\ipykernel_launcher.py:52: SettingWithCopyWarning: \n",
      "A value is trying to be set on a copy of a slice from a DataFrame\n",
      "\n",
      "See the caveats in the documentation: http://pandas.pydata.org/pandas-docs/stable/indexing.html#indexing-view-versus-copy\n"
     ]
    }
   ],
   "source": [
    "# Keep the procee we simulated above, but this time we only train on the fixed train set. Ideally we should get better \n",
    "# model with more data added. Is this true in practice?\n",
    "\n",
    "mae_static = []\n",
    "train2 = train.copy()\n",
    "test_size = test.shape[0]\n",
    "\n",
    "# Reset model counter and the set of rare models\n",
    "model_counter = counter_copy\n",
    "rare_models = rare_models_copy\n",
    "\n",
    "# Add batches to the previous train data, update rare_list, retrain model\n",
    "for i in range(12):\n",
    "    cur_batch = batches[i]\n",
    "    cur_batch['modifiedModel'] = cur_batch.apply(partial_func, axis = 1)\n",
    "    test['modifiedModel'] = test.apply(partial_func, axis = 1)\n",
    "    \n",
    "    # Concat original train data, batch and test set, dummify, and seperate\n",
    "    temp = pd.concat([train2, cur_batch, test], ignore_index = True).drop(['model'], axis = 1)\n",
    "    cat_list = list(temp.columns[temp.dtypes == object])\n",
    "    temp_withdummies = pd.get_dummies(temp, columns = cat_list)\n",
    "    \n",
    "    test_withdummies = temp_withdummies.tail(test_size)\n",
    "    train_withdummies = temp_withdummies.iloc[:-test_size]\n",
    "    \n",
    "    # Train_Test split, train model\n",
    "    trnwd_Y = train_withdummies['price']\n",
    "    trnwd_X = train_withdummies.drop('price', axis = 1)\n",
    "    tstwd_Y = test_withdummies['price']\n",
    "    tstwd_X = test_withdummies.drop('price', axis = 1)\n",
    "    \n",
    "    rf = RandomForestRegressor()\n",
    "    rf.fit(trnwd_X, trnwd_Y)\n",
    "    pred = rf.predict(tstwd_X)\n",
    "    cur_mae = mean_absolute_error(tstwd_Y, pred)\n",
    "    mae_static.append(cur_mae)\n",
    "    print ('batches added: {}'.format(i + 1))\n",
    "    \n",
    "    # Now, update rare model list and combine data\n",
    "    si = cur_batch['model'].value_counts()\n",
    "\n",
    "    for model in list(si.index):\n",
    "        model_counter[model] += si.loc[model]\n",
    "        if (model_counter[model] >= 100) and (model in rare_models):\n",
    "            rare_models.remove(model)\n",
    "        if (model_counter[model] < 100) and (model not in rare_models):\n",
    "            rare_models.add(model)\n",
    "    \n",
    "    train2.drop('modifiedModel', axis = 1, inplace = True)\n",
    "    train2 = pd.concat([train2, cur_batch], ignore_index = True)\n",
    "    train2['modifiedModel'] = train2.apply(partial_func, axis = 1)\n",
    "    test.drop('modifiedModel', axis = 1, inplace = True)"
   ]
  },
  {
   "cell_type": "code",
   "execution_count": 21,
   "metadata": {},
   "outputs": [
    {
     "data": {
      "image/png": "[encoded data removed]",
      "text/plain": [
       "<matplotlib.figure.Figure at 0x1df08619e10>"
      ]
     },
     "metadata": {},
     "output_type": "display_data"
    }
   ],
   "source": [
    "plt.figure()\n",
    "plt.plot(mae_static)\n",
    "plt.savefig('static.png')\n",
    "plt.show()"
   ]
  },
  {
   "cell_type": "code",
   "execution_count": null,
   "metadata": {
    "collapsed": true
   },
   "outputs": [],
   "source": []
  }
 ],
 "metadata": {
  "kernelspec": {
   "display_name": "Python 3",
   "language": "python",
   "name": "python3"
  },
  "language_info": {
   "codemirror_mode": {
    "name": "ipython",
    "version": 3
   },
   "file_extension": ".py",
   "mimetype": "text/x-python",
   "name": "python",
   "nbconvert_exporter": "python",
   "pygments_lexer": "ipython3",
   "version": "3.6.1"
  }
 },
 "nbformat": 4,
 "nbformat_minor": 2
}
